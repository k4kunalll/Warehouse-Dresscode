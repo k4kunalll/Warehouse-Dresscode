{
 "cells": [
  {
   "cell_type": "markdown",
   "metadata": {
    "id": "V8-yl-s-WKMG"
   },
   "source": [
    "# TensorFlowObject Detection Tutorial"
   ]
  },
  {
   "cell_type": "markdown",
   "metadata": {
    "id": "3cIrseUv6WKz"
   },
   "source": [
    "Welcome to the [Object Detection API](https://github.com/tensorflow/models/tree/master/research/object_detection). This notebook will walk you step by step through the process of using a pre-trained model to detect objects in an image."
   ]
  },
  {
   "cell_type": "markdown",
   "metadata": {
    "id": "p3UGXxUii5Ym"
   },
   "source": [
    "### Checking & Installing packages "
   ]
  },
  {
   "cell_type": "code",
   "execution_count": null,
   "metadata": {
    "colab": {
     "base_uri": "https://localhost:8080/",
     "height": 1000
    },
    "executionInfo": {
     "elapsed": 2826,
     "status": "ok",
     "timestamp": 1603033527413,
     "user": {
      "displayName": "Sourangshu Pal",
      "photoUrl": "",
      "userId": "17208387013023857461"
     },
     "user_tz": -330
    },
    "id": "OLsjtdRu1tlc",
    "outputId": "c175d20b-903a-4f00-d878-541bfeb4a143"
   },
   "outputs": [],
   "source": [
    "!pip freeze"
   ]
  },
  {
   "cell_type": "markdown",
   "metadata": {
    "id": "oRMk1VZCZ-Ep"
   },
   "source": [
    "#### Installing tf slim"
   ]
  },
  {
   "cell_type": "code",
   "execution_count": null,
   "metadata": {
    "colab": {
     "base_uri": "https://localhost:8080/",
     "height": 156
    },
    "executionInfo": {
     "elapsed": 7364,
     "status": "ok",
     "timestamp": 1603033535223,
     "user": {
      "displayName": "Sourangshu Pal",
      "photoUrl": "",
      "userId": "17208387013023857461"
     },
     "user_tz": -330
    },
    "id": "hGL97-GXjSUw",
    "outputId": "801b88e1-5fe7-4a0e-bd31-77b014783885"
   },
   "outputs": [],
   "source": [
    "#!pip install -U --pre tensorflow==\"2.*\"\n",
    "!pip install tf_slim"
   ]
  },
  {
   "cell_type": "code",
   "execution_count": null,
   "metadata": {
    "colab": {
     "base_uri": "https://localhost:8080/",
     "height": 34
    },
    "executionInfo": {
     "elapsed": 8250,
     "status": "ok",
     "timestamp": 1603033537357,
     "user": {
      "displayName": "Sourangshu Pal",
      "photoUrl": "",
      "userId": "17208387013023857461"
     },
     "user_tz": -330
    },
    "id": "5zgkmZjvIUlM",
    "outputId": "5fecd226-5129-4215-aa58-cfb8c2e01c7d"
   },
   "outputs": [],
   "source": [
    "import tensorflow as tf\n",
    "print(tf.__version__)"
   ]
  },
  {
   "cell_type": "markdown",
   "metadata": {
    "id": "n_ap_s9ajTHH"
   },
   "source": [
    "Make sure you have `pycocotools` installed"
   ]
  },
  {
   "cell_type": "code",
   "execution_count": null,
   "metadata": {
    "colab": {
     "base_uri": "https://localhost:8080/",
     "height": 207
    },
    "executionInfo": {
     "elapsed": 9476,
     "status": "ok",
     "timestamp": 1603033539907,
     "user": {
      "displayName": "Sourangshu Pal",
      "photoUrl": "",
      "userId": "17208387013023857461"
     },
     "user_tz": -330
    },
    "id": "Bg8ZyA47i3pY",
    "outputId": "1948a215-8f25-4e91-ec8c-8981738f3376"
   },
   "outputs": [],
   "source": [
    "!pip install pycocotools"
   ]
  },
  {
   "cell_type": "code",
   "execution_count": null,
   "metadata": {
    "colab": {
     "base_uri": "https://localhost:8080/",
     "height": 54
    },
    "executionInfo": {
     "elapsed": 1571,
     "status": "ok",
     "timestamp": 1603047786082,
     "user": {
      "displayName": "Sourangshu Pal",
      "photoUrl": "",
      "userId": "17208387013023857461"
     },
     "user_tz": -330
    },
    "id": "9N7emOVFdPjt",
    "outputId": "ad7f9840-c943-44c8-c9bd-7ca9ebfbb498"
   },
   "outputs": [],
   "source": [
    "from google.colab import drive\n",
    "drive.mount('/content/drive')"
   ]
  },
  {
   "cell_type": "markdown",
   "metadata": {
    "id": "-vsOL3QR6kqs"
   },
   "source": [
    "Get `tensorflow/models` or `cd` to parent directory of the repository."
   ]
  },
  {
   "cell_type": "code",
   "execution_count": null,
   "metadata": {
    "colab": {
     "base_uri": "https://localhost:8080/",
     "height": 34
    },
    "executionInfo": {
     "elapsed": 1309,
     "status": "ok",
     "timestamp": 1603047798917,
     "user": {
      "displayName": "Sourangshu Pal",
      "photoUrl": "",
      "userId": "17208387013023857461"
     },
     "user_tz": -330
    },
    "id": "2EvCbSZNdg2F",
    "outputId": "8a179493-52df-49c6-d4e8-9d63881726b0"
   },
   "outputs": [],
   "source": [
    "%cd /content/drive/My Drive/TFOD3"
   ]
  },
  {
   "cell_type": "code",
   "execution_count": null,
   "metadata": {
    "id": "ykA0c-om51s1"
   },
   "outputs": [],
   "source": [
    "import os\n",
    "import pathlib\n",
    "\n",
    "\n",
    "if \"models\" in pathlib.Path.cwd().parts:\n",
    "  while \"models\" in pathlib.Path.cwd().parts:\n",
    "    os.chdir('..')\n",
    "elif not pathlib.Path('models').exists():\n",
    "  !git clone --depth 1 https://github.com/tensorflow/models"
   ]
  },
  {
   "cell_type": "markdown",
   "metadata": {
    "id": "O219m6yWAj9l"
   },
   "source": [
    "Compile protobufs and install the object_detection package"
   ]
  },
  {
   "cell_type": "code",
   "execution_count": null,
   "metadata": {
    "colab": {
     "base_uri": "https://localhost:8080/",
     "height": 34
    },
    "executionInfo": {
     "elapsed": 2328,
     "status": "ok",
     "timestamp": 1603033731751,
     "user": {
      "displayName": "Sourangshu Pal",
      "photoUrl": "",
      "userId": "17208387013023857461"
     },
     "user_tz": -330
    },
    "id": "h0porMs6d1n_",
    "outputId": "aa6fd168-003b-45f9-c01c-a5f23d05ee85"
   },
   "outputs": [],
   "source": [
    "!pwd"
   ]
  },
  {
   "cell_type": "code",
   "execution_count": null,
   "metadata": {
    "id": "PY41vdYYNlXc"
   },
   "outputs": [],
   "source": [
    "%%bash\n",
    "cd models/research/\n",
    "protoc object_detection/protos/*.proto --python_out=."
   ]
  },
  {
   "cell_type": "code",
   "execution_count": null,
   "metadata": {
    "colab": {
     "base_uri": "https://localhost:8080/",
     "height": 34
    },
    "executionInfo": {
     "elapsed": 2536,
     "status": "ok",
     "timestamp": 1603033734219,
     "user": {
      "displayName": "Sourangshu Pal",
      "photoUrl": "",
      "userId": "17208387013023857461"
     },
     "user_tz": -330
    },
    "id": "vZwP1kCac5hW",
    "outputId": "1e4ea775-277e-4700-b0ba-6aad093e2da8"
   },
   "outputs": [],
   "source": [
    "!ls"
   ]
  },
  {
   "cell_type": "code",
   "execution_count": null,
   "metadata": {
    "id": "LYLvDCpUc-zt"
   },
   "outputs": [],
   "source": [
    "#%%bash\n",
    "#cd /models/research\n",
    "#pip install ."
   ]
  },
  {
   "cell_type": "code",
   "execution_count": null,
   "metadata": {
    "colab": {
     "base_uri": "https://localhost:8080/",
     "height": 1000
    },
    "executionInfo": {
     "elapsed": 374990,
     "status": "ok",
     "timestamp": 1603034123446,
     "user": {
      "displayName": "Sourangshu Pal",
      "photoUrl": "",
      "userId": "17208387013023857461"
     },
     "user_tz": -330
    },
    "id": "JA3fexyveV45",
    "outputId": "b1d89d79-a53d-468f-f041-e8475d3a4b8d"
   },
   "outputs": [],
   "source": [
    "%cd /content/drive/My Drive/TFOD3/models/research\n",
    "\n",
    "!python setup.py install"
   ]
  },
  {
   "cell_type": "markdown",
   "metadata": {
    "id": "LBdjK2G5ywuc"
   },
   "source": [
    "### Imports"
   ]
  },
  {
   "cell_type": "code",
   "execution_count": null,
   "metadata": {
    "id": "hV4P5gyTWKMI"
   },
   "outputs": [],
   "source": [
    "import numpy as np\n",
    "import os\n",
    "import six.moves.urllib as urllib\n",
    "import sys\n",
    "import tarfile\n",
    "import tensorflow as tf\n",
    "import zipfile\n",
    "\n",
    "from collections import defaultdict\n",
    "from io import StringIO\n",
    "from matplotlib import pyplot as plt\n",
    "from PIL import Image\n",
    "from IPython.display import display"
   ]
  },
  {
   "cell_type": "markdown",
   "metadata": {
    "id": "r5FNuiRPWKMN"
   },
   "source": [
    "Import the object detection module."
   ]
  },
  {
   "cell_type": "code",
   "execution_count": null,
   "metadata": {
    "id": "4-IMl4b6BdGO"
   },
   "outputs": [],
   "source": [
    "\n",
    "from object_detection.utils import ops as utils_ops\n",
    "from object_detection.utils import label_map_util\n",
    "from object_detection.utils import visualization_utils as vis_util"
   ]
  },
  {
   "cell_type": "markdown",
   "metadata": {
    "id": "RYPCiag2iz_q"
   },
   "source": [
    "Patches:"
   ]
  },
  {
   "cell_type": "code",
   "execution_count": null,
   "metadata": {
    "id": "mF-YlMl8c_bM"
   },
   "outputs": [],
   "source": [
    "# patch tf1 into `utils.ops`\n",
    "utils_ops.tf = tf.compat.v1\n",
    "\n",
    "# Patch the location of gfile\n",
    "tf.gfile = tf.io.gfile"
   ]
  },
  {
   "cell_type": "markdown",
   "metadata": {
    "id": "cfn_tRFOWKMO"
   },
   "source": [
    "# Model preparation "
   ]
  },
  {
   "cell_type": "markdown",
   "metadata": {
    "id": "X_sEBLpVWKMQ"
   },
   "source": [
    "## Variables\n",
    "\n",
    "Any model exported using the `export_inference_graph.py` tool can be loaded here simply by changing the path.\n",
    "\n",
    "By default we use an \"SSD with Mobilenet\" model here. See the [detection model zoo](https://github.com/tensorflow/models/blob/master/research/object_detection/g3doc/detection_model_zoo.md) for a list of other models that can be run out-of-the-box with varying speeds and accuracies."
   ]
  },
  {
   "cell_type": "markdown",
   "metadata": {
    "id": "7ai8pLZZWKMS"
   },
   "source": [
    "## Loader"
   ]
  },
  {
   "cell_type": "code",
   "execution_count": null,
   "metadata": {
    "id": "zm8xp-0eoItE"
   },
   "outputs": [],
   "source": [
    "def load_model(model_name):\n",
    "  base_url = 'http://download.tensorflow.org/models/object_detection/tf2/20200711/'\n",
    "  model_file = model_name + '.tar.gz'\n",
    "  model_dir = tf.keras.utils.get_file(\n",
    "    fname=model_name, \n",
    "    origin=base_url + model_file,\n",
    "    untar=True)\n",
    "\n",
    "  model_dir = pathlib.Path(model_dir)/\"saved_model\"\n",
    "\n",
    "  model = tf.saved_model.load(str(model_dir))\n",
    "\n",
    "  return model"
   ]
  },
  {
   "cell_type": "markdown",
   "metadata": {
    "id": "_1MVVTcLWKMW"
   },
   "source": [
    "## Loading label map\n",
    "Label maps map indices to category names, so that when our convolution network predicts `5`, we know that this corresponds to `airplane`.  Here we use internal utility functions, but anything that returns a dictionary mapping integers to appropriate string labels would be fine"
   ]
  },
  {
   "cell_type": "code",
   "execution_count": null,
   "metadata": {
    "id": "hDbpHkiWWKMX"
   },
   "outputs": [],
   "source": [
    "# List of the strings that is used to add correct label for each box.\n",
    "PATH_TO_LABELS = '/content/drive/My Drive/TFOD3/models/research/object_detection/data/mscoco_label_map.pbtxt'\n",
    "\n",
    "category_index = label_map_util.create_category_index_from_labelmap(PATH_TO_LABELS, use_display_name=True)"
   ]
  },
  {
   "cell_type": "markdown",
   "metadata": {
    "id": "oVU3U_J6IJVb"
   },
   "source": [
    "For the sake of simplicity we will test on 2 images:"
   ]
  },
  {
   "cell_type": "code",
   "execution_count": null,
   "metadata": {
    "colab": {
     "base_uri": "https://localhost:8080/",
     "height": 51
    },
    "executionInfo": {
     "elapsed": 1516,
     "status": "ok",
     "timestamp": 1603034361653,
     "user": {
      "displayName": "Sourangshu Pal",
      "photoUrl": "",
      "userId": "17208387013023857461"
     },
     "user_tz": -330
    },
    "id": "jG-zn5ykWKMd",
    "outputId": "3a558af0-6cdc-426b-e513-cbbb1fd20faf"
   },
   "outputs": [],
   "source": [
    "# If you want to test the code with your images, just add path to the images to the TEST_IMAGE_PATHS.\n",
    "PATH_TO_TEST_IMAGES_DIR = pathlib.Path('/content/drive/My Drive/TFOD3/models/research/object_detection/test_images')\n",
    "TEST_IMAGE_PATHS = sorted(list(PATH_TO_TEST_IMAGES_DIR.glob(\"*.jpg\")))\n",
    "TEST_IMAGE_PATHS"
   ]
  },
  {
   "cell_type": "markdown",
   "metadata": {
    "id": "H0_1AGhrWKMc"
   },
   "source": [
    "# Detection"
   ]
  },
  {
   "cell_type": "markdown",
   "metadata": {
    "id": "f7aOtOlebK7h"
   },
   "source": [
    "Load an object detection model:"
   ]
  },
  {
   "cell_type": "code",
   "execution_count": null,
   "metadata": {
    "colab": {
     "base_uri": "https://localhost:8080/",
     "height": 1000
    },
    "executionInfo": {
     "elapsed": 32674,
     "status": "ok",
     "timestamp": 1603034394764,
     "user": {
      "displayName": "Sourangshu Pal",
      "photoUrl": "",
      "userId": "17208387013023857461"
     },
     "user_tz": -330
    },
    "id": "1XNT0wxybKR6",
    "outputId": "7eb7e5eb-4e8f-4f55-e98c-bd54b9a26660"
   },
   "outputs": [],
   "source": [
    "#http://download.tensorflow.org/models/object_detection/tf2/20200711/efficientdet_d0_coco17_tpu-32.tar.gz\n",
    "model_name = 'efficientdet_d0_coco17_tpu-32'\n",
    "detection_model = load_model(model_name)"
   ]
  },
  {
   "cell_type": "markdown",
   "metadata": {
    "id": "yN1AYfAEJIGp"
   },
   "source": [
    "Check the model's input signature, it expects a batch of 3-color images of type uint8:"
   ]
  },
  {
   "cell_type": "code",
   "execution_count": null,
   "metadata": {
    "colab": {
     "base_uri": "https://localhost:8080/",
     "height": 88
    },
    "executionInfo": {
     "elapsed": 1778,
     "status": "ok",
     "timestamp": 1603034573357,
     "user": {
      "displayName": "Sourangshu Pal",
      "photoUrl": "",
      "userId": "17208387013023857461"
     },
     "user_tz": -330
    },
    "id": "CK4cnry6wsHY",
    "outputId": "e44f6d5d-6bd0-4799-b619-60209a82a614"
   },
   "outputs": [],
   "source": [
    "print(detection_model.signatures['serving_default'].inputs)\n",
    "print(detection_model.signatures['serving_default'].output_dtypes)\n",
    "print(detection_model.signatures['serving_default'].output_shapes)"
   ]
  },
  {
   "cell_type": "markdown",
   "metadata": {
    "id": "JP5qZ7sXJpwG"
   },
   "source": [
    "Add a wrapper function to call the model, and cleanup the outputs:"
   ]
  },
  {
   "cell_type": "code",
   "execution_count": null,
   "metadata": {
    "id": "ajmR_exWyN76"
   },
   "outputs": [],
   "source": [
    "def run_inference_for_single_image(model, image):\n",
    "  image = np.asarray(image)\n",
    "  # The input needs to be a tensor, convert it using `tf.convert_to_tensor`.\n",
    "  input_tensor = tf.convert_to_tensor(image)\n",
    "  # The model expects a batch of images, so add an axis with `tf.newaxis`.\n",
    "  input_tensor = input_tensor[tf.newaxis,...]\n",
    "\n",
    "  # Run inference\n",
    "  model_fn = model.signatures['serving_default']\n",
    "  output_dict = model_fn(input_tensor)\n",
    "\n",
    "  # All outputs are batches tensors.\n",
    "  # Convert to numpy arrays, and take index [0] to remove the batch dimension.\n",
    "  # We're only interested in the first num_detections.\n",
    "  num_detections = int(output_dict.pop('num_detections'))\n",
    "  output_dict = {key:value[0, :num_detections].numpy() \n",
    "                 for key,value in output_dict.items()}\n",
    "  output_dict['num_detections'] = num_detections\n",
    "\n",
    "  # detection_classes should be ints.\n",
    "  output_dict['detection_classes'] = output_dict['detection_classes'].astype(np.int64)\n",
    "   \n",
    "  # Handle models with masks:\n",
    "  if 'detection_masks' in output_dict:\n",
    "    # Reframe the the bbox mask to the image size.\n",
    "    detection_masks_reframed = utils_ops.reframe_box_masks_to_image_masks(\n",
    "              output_dict['detection_masks'], output_dict['detection_boxes'],\n",
    "               image.shape[0], image.shape[1])      \n",
    "    detection_masks_reframed = tf.cast(detection_masks_reframed > 0.5,\n",
    "                                       tf.uint8)\n",
    "    output_dict['detection_masks_reframed'] = detection_masks_reframed.numpy()\n",
    "    \n",
    "  return output_dict"
   ]
  },
  {
   "cell_type": "markdown",
   "metadata": {
    "id": "z1wq0LVyMRR_"
   },
   "source": [
    "Run it on each test image and show the results:"
   ]
  },
  {
   "cell_type": "code",
   "execution_count": null,
   "metadata": {
    "id": "DWh_1zz6aqxs"
   },
   "outputs": [],
   "source": [
    "def show_inference(model, image_path):\n",
    "  # the array based representation of the image will be used later in order to prepare the\n",
    "  # result image with boxes and labels on it.\n",
    "  image_np = np.array(Image.open(image_path))\n",
    "  # Actual detection.\n",
    "  output_dict = run_inference_for_single_image(model, image_np)\n",
    "  # Visualization of the results of a detection.\n",
    "  vis_util.visualize_boxes_and_labels_on_image_array(\n",
    "      image_np,\n",
    "      output_dict['detection_boxes'],\n",
    "      output_dict['detection_classes'],\n",
    "      output_dict['detection_scores'],\n",
    "      category_index,\n",
    "      instance_masks=output_dict.get('detection_masks_reframed', None),\n",
    "      use_normalized_coordinates=True,\n",
    "      line_thickness=8)\n",
    "\n",
    "  display(Image.fromarray(image_np))"
   ]
  },
  {
   "cell_type": "code",
   "execution_count": null,
   "metadata": {
    "colab": {
     "base_uri": "https://localhost:8080/",
     "height": 1000,
     "output_embedded_package_id": "1TKlewN6X8t57OTtaFVxLZIla8-VhUPFA"
    },
    "executionInfo": {
     "elapsed": 27596,
     "status": "ok",
     "timestamp": 1603034606306,
     "user": {
      "displayName": "Sourangshu Pal",
      "photoUrl": "",
      "userId": "17208387013023857461"
     },
     "user_tz": -330
    },
    "id": "3a5wMHN8WKMh",
    "outputId": "a39c4586-1acb-441b-d08f-be719841a8f6"
   },
   "outputs": [],
   "source": [
    "for image_path in TEST_IMAGE_PATHS:\n",
    "  show_inference(detection_model, image_path)\n"
   ]
  },
  {
   "cell_type": "markdown",
   "metadata": {
    "id": "uD57gEIkehEX"
   },
   "source": [
    "## Custom Training Procedure"
   ]
  },
  {
   "cell_type": "code",
   "execution_count": null,
   "metadata": {
    "colab": {
     "base_uri": "https://localhost:8080/",
     "height": 34
    },
    "executionInfo": {
     "elapsed": 1489,
     "status": "ok",
     "timestamp": 1603034608017,
     "user": {
      "displayName": "Sourangshu Pal",
      "photoUrl": "",
      "userId": "17208387013023857461"
     },
     "user_tz": -330
    },
    "id": "VjCbE5gKepiQ",
    "outputId": "1520f2c1-2d8c-4c83-9c9d-45685636dc63"
   },
   "outputs": [],
   "source": [
    "!pwd"
   ]
  },
  {
   "cell_type": "code",
   "execution_count": null,
   "metadata": {
    "colab": {
     "base_uri": "https://localhost:8080/",
     "height": 34
    },
    "executionInfo": {
     "elapsed": 1466,
     "status": "ok",
     "timestamp": 1603034608020,
     "user": {
      "displayName": "Sourangshu Pal",
      "photoUrl": "",
      "userId": "17208387013023857461"
     },
     "user_tz": -330
    },
    "id": "TrBsRPKejkGa",
    "outputId": "0a66b358-daf0-4259-9d38-95b5c9711415"
   },
   "outputs": [],
   "source": [
    "%cd /content/drive/My Drive/TFOD3/models/research/object_detection/ "
   ]
  },
  {
   "cell_type": "markdown",
   "metadata": {
    "id": "aol2ec4ldPes"
   },
   "source": [
    "## Coverting xml to csv"
   ]
  },
  {
   "cell_type": "code",
   "execution_count": null,
   "metadata": {
    "id": "JJFrXdWcj8Wm"
   },
   "outputs": [],
   "source": [
    "%%bash\n",
    "cd /content/drive/My Drive/TFOD2/models/research/object_detection/\n",
    "\n",
    "python xml_to_csv.py\n",
    "print(\"Done\")"
   ]
  },
  {
   "cell_type": "markdown",
   "metadata": {
    "id": "acSVs5O6dX1s"
   },
   "source": [
    "## Creating train tf record file from csv"
   ]
  },
  {
   "cell_type": "code",
   "execution_count": null,
   "metadata": {
    "colab": {
     "base_uri": "https://localhost:8080/"
    },
    "id": "2p5vK2DzluTB",
    "outputId": "76c40e66-1d0b-4b80-f5cf-d5f86b8b9577"
   },
   "outputs": [],
   "source": [
    "!python generate_tfrecord.py --csv_input=images/train_labels.csv --image_dir=images/train --output_path=train.record\n"
   ]
  },
  {
   "cell_type": "markdown",
   "metadata": {
    "id": "GbwgwFqodslO"
   },
   "source": [
    "## Creating test tf record file from csv"
   ]
  },
  {
   "cell_type": "code",
   "execution_count": null,
   "metadata": {
    "colab": {
     "base_uri": "https://localhost:8080/"
    },
    "id": "k5U5srvxmmDf",
    "outputId": "0c4be74c-7d37-4f04-8649-f5009a0c09dd"
   },
   "outputs": [],
   "source": [
    "!python generate_tfrecord.py --csv_input=images/test_labels.csv --image_dir=images/test --output_path=test.record\n"
   ]
  },
  {
   "cell_type": "markdown",
   "metadata": {
    "id": "VLHLVyG_dwCj"
   },
   "source": [
    "#### Downloading the pretrained model Efficientdet D1 form the modelzoo"
   ]
  },
  {
   "cell_type": "code",
   "execution_count": null,
   "metadata": {
    "colab": {
     "base_uri": "https://localhost:8080/",
     "height": 139
    },
    "executionInfo": {
     "elapsed": 1617,
     "status": "ok",
     "timestamp": 1602663596110,
     "user": {
      "displayName": "Sourangshu Pal",
      "photoUrl": "",
      "userId": "17208387013023857461"
     },
     "user_tz": -330
    },
    "id": "RyqtqVvCm64F",
    "outputId": "4cc8aaae-d7b7-4c44-ca65-42541094fc4b"
   },
   "outputs": [],
   "source": [
    "#efficient det d1\n",
    "\n",
    "!wget http://download.tensorflow.org/models/object_detection/tf3/20200711/efficientdet_d1_coco17_tpu-32.tar.gz\n"
   ]
  },
  {
   "cell_type": "markdown",
   "metadata": {
    "id": "U3A8NIL8d3ix"
   },
   "source": [
    "#### Untar the model file"
   ]
  },
  {
   "cell_type": "code",
   "execution_count": null,
   "metadata": {
    "id": "CPmdYs-qnLcD"
   },
   "outputs": [],
   "source": [
    "#!tar -xf ssd_resnet50_v1_fpn_640x640_coco17_tpu-8.tar.gz\n",
    "\n",
    "# untar efficientdet d1\n",
    "\n",
    "!tar -xf efficientdet_d1_coco17_tpu-32.tar.gz\n",
    "\n"
   ]
  },
  {
   "cell_type": "code",
   "execution_count": null,
   "metadata": {
    "id": "Ye0O6gvrEJL6"
   },
   "outputs": [],
   "source": [
    "#chnges to do in pipeline.config file\n",
    "\n",
    "\"\"\" batch_size = 1\n",
    "\n",
    "num_classes: \n",
    "\n",
    "fine_tune_checkpoint: \"your_model_name/checkpoint/ckpt-0\"\n",
    "\n",
    "num_steps: 50000 \n",
    "\n",
    "fine_tune_checkpoint_type: \"detection\" \"\"\"\n",
    "\n",
    "# Change the path of labelmap.pbtxt ,train.record and test.record\n",
    "\n",
    "\"\"\" train_input_reader {\n",
    "  label_map_path: \"training/labelmap.pbtxt\"\n",
    "  tf_record_input_reader {\n",
    "    input_path: \"train.record\"\n",
    "  }\n",
    "}\n",
    "eval_config {\n",
    "  metrics_set: \"coco_detection_metrics\"\n",
    "  use_moving_averages: false\n",
    "}\n",
    "eval_input_reader {\n",
    "  label_map_path: \"training/labelmap.pbtxt\"\n",
    "  shuffle: false\n",
    "  num_epochs: 1\n",
    "  tf_record_input_reader {\n",
    "    input_path: \"test.record\"\n",
    "  }\n",
    "}   \"\"\"\n",
    "\n",
    "# changes to do in generate_tfrecord.py file\n",
    "\n",
    "\"\"\" #TO-DO replace this with label map\n",
    "def class_text_to_int(row_label):\n",
    "    if row_label == 'nine':\n",
    "        return 1\n",
    "    elif row_label == 'ten':\n",
    "        return 2\n",
    "    elif row_label == 'jack':\n",
    "        return 3\n",
    "    elif row_label == 'queen':\n",
    "        return 4\n",
    "    elif row_label == 'king':\n",
    "        return 5\n",
    "    elif row_label == 'ace':\n",
    "        return 6\n",
    "    else:\n",
    "        return 0   \"\"\""
   ]
  },
  {
   "cell_type": "code",
   "execution_count": null,
   "metadata": {
    "colab": {
     "base_uri": "https://localhost:8080/",
     "height": 1000
    },
    "executionInfo": {
     "elapsed": 11713,
     "status": "ok",
     "timestamp": 1603034634878,
     "user": {
      "displayName": "Sourangshu Pal",
      "photoUrl": "",
      "userId": "17208387013023857461"
     },
     "user_tz": -330
    },
    "id": "cOuPJ5yv151L",
    "outputId": "a854317c-0d24-4bac-8bcc-c06405f85565"
   },
   "outputs": [],
   "source": [
    "# execute if getting No module named 'official'\n",
    "\n",
    "#%cd /content/drive/My Drive/TFOD2/models/research/\n",
    "%cd /content/models/research/\n",
    "\n",
    "\n",
    "!pip install tf-models-official"
   ]
  },
  {
   "cell_type": "code",
   "execution_count": null,
   "metadata": {
    "colab": {
     "base_uri": "https://localhost:8080/",
     "height": 34
    },
    "executionInfo": {
     "elapsed": 1350,
     "status": "ok",
     "timestamp": 1603047298236,
     "user": {
      "displayName": "Sourangshu Pal",
      "photoUrl": "",
      "userId": "17208387013023857461"
     },
     "user_tz": -330
    },
    "id": "8ji2tGUg3baS",
    "outputId": "7f8fb495-0b53-475c-d3d1-be3ec3c16f59"
   },
   "outputs": [],
   "source": [
    "%cd /content/drive/My Drive/TFOD3/models/research/object_detection/ "
   ]
  },
  {
   "cell_type": "markdown",
   "metadata": {
    "id": "ipytn2ard8P-"
   },
   "source": [
    "### Let's start training"
   ]
  },
  {
   "cell_type": "code",
   "execution_count": null,
   "metadata": {
    "colab": {
     "base_uri": "https://localhost:8080/",
     "height": 1000
    },
    "executionInfo": {
     "elapsed": 117216,
     "status": "ok",
     "timestamp": 1603047589363,
     "user": {
      "displayName": "Sourangshu Pal",
      "photoUrl": "",
      "userId": "17208387013023857461"
     },
     "user_tz": -330
    },
    "id": "eFmuATYKodUS",
    "outputId": "a8b608c2-01b6-4bba-b959-09b84dd9b981"
   },
   "outputs": [],
   "source": [
    "!python model_main_tf2.py --model_dir=training --pipeline_config_path=training/pipeline.config"
   ]
  },
  {
   "cell_type": "code",
   "execution_count": null,
   "metadata": {
    "id": "AvJ33roN3Vo7"
   },
   "outputs": [],
   "source": [
    "#Stop/Resume the training\n",
    "\n",
    "!python model_main_tf2.py --model_dir=training --pipeline_config_path=training/pipeline.config"
   ]
  },
  {
   "cell_type": "markdown",
   "metadata": {
    "id": "YsbMqhqReB02"
   },
   "source": [
    "### Evaluating the model "
   ]
  },
  {
   "cell_type": "code",
   "execution_count": null,
   "metadata": {
    "colab": {
     "base_uri": "https://localhost:8080/",
     "height": 1000
    },
    "executionInfo": {
     "elapsed": 387682,
     "status": "ok",
     "timestamp": 1603046329777,
     "user": {
      "displayName": "Sourangshu Pal",
      "photoUrl": "",
      "userId": "17208387013023857461"
     },
     "user_tz": -330
    },
    "id": "DL8y8tKWroG_",
    "outputId": "1d7459c1-58a8-424c-8ca4-18378dc630d5"
   },
   "outputs": [],
   "source": [
    "!python model_main_tf2.py --model_dir=training --pipeline_config_path=training/pipeline.config --checkpoint_dir=training"
   ]
  },
  {
   "cell_type": "markdown",
   "metadata": {
    "id": "uxwsV3sdecLO"
   },
   "source": [
    "### Exporting checkpoint files to Saved Model Format"
   ]
  },
  {
   "cell_type": "code",
   "execution_count": null,
   "metadata": {
    "colab": {
     "base_uri": "https://localhost:8080/",
     "height": 1000
    },
    "executionInfo": {
     "elapsed": 126502,
     "status": "ok",
     "timestamp": 1603046462589,
     "user": {
      "displayName": "Sourangshu Pal",
      "photoUrl": "",
      "userId": "17208387013023857461"
     },
     "user_tz": -330
    },
    "id": "X3qmRtUEbH-n",
    "outputId": "93441602-c428-496c-fcd7-a25d53f6c16c"
   },
   "outputs": [],
   "source": [
    "### Exporting the Infernece Graph\n",
    "!python exporter_main_v2.py --input_type image_tensor --pipeline_config_path training/pipeline.config --trained_checkpoint_dir training/ --output_directory exported-models/my_model"
   ]
  },
  {
   "cell_type": "markdown",
   "metadata": {
    "id": "sdOX69aAibZF"
   },
   "source": [
    "### Doing Prediction on the Custom Trained Model"
   ]
  },
  {
   "cell_type": "code",
   "execution_count": null,
   "metadata": {
    "id": "5TlTE3xOihPv"
   },
   "outputs": [],
   "source": [
    "import pathlib \n",
    "\n",
    "def load_custom_model(model_name):\n",
    "  model_file = model_name\n",
    "\n",
    "  model_dir = pathlib.Path(model_file)/\"saved_model\"\n",
    "\n",
    "  model = tf.saved_model.load(str(model_dir))\n",
    "\n",
    "  return model"
   ]
  },
  {
   "cell_type": "code",
   "execution_count": null,
   "metadata": {
    "id": "5UGOkqlljNDA"
   },
   "outputs": [],
   "source": [
    "# List of the strings that is used to add correct label for each box.\n",
    "PATH_TO_LABELS = 'training/labelmap.pbtxt'\n",
    "category_index = label_map_util.create_category_index_from_labelmap(PATH_TO_LABELS, use_display_name=True)"
   ]
  },
  {
   "cell_type": "code",
   "execution_count": null,
   "metadata": {
    "id": "zLRsbU1ijMux"
   },
   "outputs": [],
   "source": [
    "# If you want to test the code with your images, just add path to the images to the TEST_IMAGE_PATHS.\n",
    "PATH_TO_TEST_IMAGES_DIR = pathlib.Path('/content/drive/My Drive/TFOD3/models/research/object_detection/testing')\n",
    "TEST_IMAGE_PATHS = sorted(list(PATH_TO_TEST_IMAGES_DIR.glob(\"*.jpg\")))\n",
    "TEST_IMAGE_PATHS"
   ]
  },
  {
   "cell_type": "code",
   "execution_count": null,
   "metadata": {
    "id": "y0wnSdpBjMda"
   },
   "outputs": [],
   "source": [
    "model_name = 'exported-models/my_model'\n",
    "detection_model = load_custom_model(model_name)"
   ]
  },
  {
   "cell_type": "code",
   "execution_count": null,
   "metadata": {
    "id": "Yz6V_2OzlSGQ"
   },
   "outputs": [],
   "source": [
    "print(detection_model.signatures['serving_default'].inputs)\n",
    "print(detection_model.signatures['serving_default'].output_dtypes)\n",
    "print(detection_model.signatures['serving_default'].output_shapes)"
   ]
  },
  {
   "cell_type": "code",
   "execution_count": null,
   "metadata": {
    "id": "JBYAwQeLlR6Q"
   },
   "outputs": [],
   "source": [
    "def run_inference_for_single_image(model, image):\n",
    "  image = np.asarray(image)\n",
    "  # The input needs to be a tensor, convert it using `tf.convert_to_tensor`.\n",
    "  input_tensor = tf.convert_to_tensor(image)\n",
    "  # The model expects a batch of images, so add an axis with `tf.newaxis`.\n",
    "  input_tensor = input_tensor[tf.newaxis,...]\n",
    "\n",
    "  # Run inference\n",
    "  model_fn = model.signatures['serving_default']\n",
    "  output_dict = model_fn(input_tensor)\n",
    "\n",
    "  # All outputs are batches tensors.\n",
    "  # Convert to numpy arrays, and take index [0] to remove the batch dimension.\n",
    "  # We're only interested in the first num_detections.\n",
    "  num_detections = int(output_dict.pop('num_detections'))\n",
    "  output_dict = {key:value[0, :num_detections].numpy() \n",
    "                 for key,value in output_dict.items()}\n",
    "  output_dict['num_detections'] = num_detections\n",
    "\n",
    "  # detection_classes should be ints.\n",
    "  output_dict['detection_classes'] = output_dict['detection_classes'].astype(np.int64)\n",
    "   \n",
    "  # Handle models with masks:\n",
    "  if 'detection_masks' in output_dict:\n",
    "    # Reframe the the bbox mask to the image size.\n",
    "    detection_masks_reframed = utils_ops.reframe_box_masks_to_image_masks(\n",
    "              output_dict['detection_masks'], output_dict['detection_boxes'],\n",
    "               image.shape[0], image.shape[1])      \n",
    "    detection_masks_reframed = tf.cast(detection_masks_reframed > 0.5,\n",
    "                                       tf.uint8)\n",
    "    output_dict['detection_masks_reframed'] = detection_masks_reframed.numpy()\n",
    "    \n",
    "  return output_dict"
   ]
  },
  {
   "cell_type": "code",
   "execution_count": null,
   "metadata": {
    "id": "wDWT0cGElRuu"
   },
   "outputs": [],
   "source": [
    "def show_inference(model, image_path):\n",
    "  # the array based representation of the image will be used later in order to prepare the\n",
    "  # result image with boxes and labels on it.\n",
    "  image_np = np.array(Image.open(image_path))\n",
    "  # Actual detection.\n",
    "  output_dict = run_inference_for_single_image(model, image_np)\n",
    "  # Visualization of the results of a detection.\n",
    "  vis_util.visualize_boxes_and_labels_on_image_array(\n",
    "      image_np,\n",
    "      output_dict['detection_boxes'],\n",
    "      output_dict['detection_classes'],\n",
    "      output_dict['detection_scores'],\n",
    "      category_index,\n",
    "      instance_masks=output_dict.get('detection_masks_reframed', None),\n",
    "      use_normalized_coordinates=True,\n",
    "      line_thickness=8)\n",
    "\n",
    "  display(Image.fromarray(image_np))"
   ]
  },
  {
   "cell_type": "code",
   "execution_count": null,
   "metadata": {
    "colab": {
     "base_uri": "https://localhost:8080/",
     "height": 1000,
     "output_embedded_package_id": "1CBpv-T83UlT-ScyV6FVnjNsfrgErI9Op"
    },
    "executionInfo": {
     "elapsed": 45057,
     "status": "ok",
     "timestamp": 1603046540210,
     "user": {
      "displayName": "Sourangshu Pal",
      "photoUrl": "",
      "userId": "17208387013023857461"
     },
     "user_tz": -330
    },
    "id": "-Kj_Mv88lp6T",
    "outputId": "59a9436f-3eee-430e-aca6-63f541461434"
   },
   "outputs": [],
   "source": [
    "for image_path in TEST_IMAGE_PATHS:\n",
    "  show_inference(detection_model, image_path)"
   ]
  },
  {
   "cell_type": "markdown",
   "metadata": {
    "id": "pj9mXjiBA0c2"
   },
   "source": []
  },
  {
   "cell_type": "code",
   "execution_count": null,
   "metadata": {
    "colab": {
     "base_uri": "https://localhost:8080/",
     "height": 36
    },
    "id": "bUhy4N_AMqXP",
    "outputId": "fbe33b66-a629-4d0d-b88b-766d4d41e36e"
   },
   "outputs": [],
   "source": [
    "pwd"
   ]
  },
  {
   "cell_type": "code",
   "execution_count": null,
   "metadata": {
    "colab": {
     "base_uri": "https://localhost:8080/",
     "height": 109
    },
    "id": "7UNsb2zdGoMY",
    "outputId": "737fe7ab-db81-4e59-af02-ec63e0795169"
   },
   "outputs": [],
   "source": [
    "#for unzipping\n",
    "\n",
    "!apt install unzip\n",
    "\n",
    "!unzip \"file location\"\n"
   ]
  }
 ],
 "metadata": {
  "accelerator": "GPU",
  "colab": {
   "collapsed_sections": [
    "X_sEBLpVWKMQ"
   ],
   "machine_shape": "hm",
   "name": "TFOD2.ipynb",
   "provenance": []
  },
  "kernelspec": {
   "display_name": "Python 3",
   "language": "python",
   "name": "python3"
  },
  "language_info": {
   "codemirror_mode": {
    "name": "ipython",
    "version": 3
   },
   "file_extension": ".py",
   "mimetype": "text/x-python",
   "name": "python",
   "nbconvert_exporter": "python",
   "pygments_lexer": "ipython3",
   "version": "3.6.9"
  }
 },
 "nbformat": 4,
 "nbformat_minor": 1
}
